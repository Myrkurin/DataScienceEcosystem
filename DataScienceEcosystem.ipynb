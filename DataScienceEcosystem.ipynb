{
 "cells": [
  {
   "cell_type": "markdown",
   "id": "0621ed1c-2ac0-473c-a7ca-82d465d85cc9",
   "metadata": {},
   "source": [
    "# Інструменти та екосистема даних"
   ]
  },
  {
   "cell_type": "markdown",
   "id": "c3a224da-a1fc-43fc-b3ed-76255ed2b4cc",
   "metadata": {},
   "source": [
    "У цьому блокноті підсумовані інструменти та екосистема даних.\n",
    "\n",
    "**Цілі:**\n",
    "1. Перелік популярних мов для науки про дані\n",
    "2. Перелік загальновживаних бібліотек, які використовують науковці з даних\n",
    "3. Перелік прикладів оцінки арифметичних виразів у Python"
   ]
  },
  {
   "cell_type": "markdown",
   "id": "fe7d83d8-2b2f-49d5-8467-0eeb55407a2d",
   "metadata": {},
   "source": [
    "Деякі з популярних мов, які використовують науковці з даних, це:\n",
    "1. Python\n",
    "2. R\n",
    "3. SQL"
   ]
  },
  {
   "cell_type": "markdown",
   "id": "925e29a5-52a1-4650-8f54-beb73d563a49",
   "metadata": {},
   "source": [
    "Деякі з загальновживаних бібліотек, які використовують науковці з даних, включають:"
   ]
  },
  {
   "cell_type": "markdown",
   "id": "5f6aba06-1df2-46f2-80c5-d9c448571fc7",
   "metadata": {},
   "source": [
    "1. Pandas\n",
    "2. NumPy\n",
    "3. Matlotlib"
   ]
  },
  {
   "cell_type": "markdown",
   "id": "c21dd1ce-3f0e-4cb1-8701-6ae69d9a445c",
   "metadata": {},
   "source": [
    "| Інструменти даних |\n",
    "| ----- |\n",
    "| Jupyter Notebook |\n",
    "| RStudio |\n",
    "| scikit-learn |"
   ]
  },
  {
   "cell_type": "markdown",
   "id": "0edf0647-316a-49c9-b9db-a039c0389211",
   "metadata": {},
   "source": [
    "### Нижче наведено кілька прикладів оцінки арифметичних виразів у Python"
   ]
  },
  {
   "cell_type": "code",
   "execution_count": 16,
   "id": "47ad727d-9d72-4f1c-866e-a7565888e85d",
   "metadata": {},
   "outputs": [
    {
     "data": {
      "text/plain": [
       "17"
      ]
     },
     "execution_count": 16,
     "metadata": {},
     "output_type": "execute_result"
    }
   ],
   "source": [
    "# Це простий арифметичний вираз для множення, а потім додавання цілих чисел\n",
    "(3*4)+5"
   ]
  },
  {
   "cell_type": "code",
   "execution_count": 18,
   "id": "637cc5e3-8810-4b1d-a0c4-ed0a27444714",
   "metadata": {},
   "outputs": [
    {
     "data": {
      "text/plain": [
       "3.3333333333333335"
      ]
     },
     "execution_count": 18,
     "metadata": {},
     "output_type": "execute_result"
    }
   ],
   "source": [
    "# Це перетворить 200 хвилин на години, ділячи на 60\n",
    "200/60"
   ]
  },
  {
   "cell_type": "markdown",
   "id": "c1c4437d-ace7-42b2-a1f6-93d0acfcb63a",
   "metadata": {},
   "source": [
    "## Автор\n",
    "Владислав Антонов"
   ]
  },
  {
   "cell_type": "code",
   "execution_count": null,
   "id": "c3cc34da-57bb-474f-a5bc-43e1bbb9a252",
   "metadata": {},
   "outputs": [],
   "source": []
  }
 ],
 "metadata": {
  "kernelspec": {
   "display_name": "Python [conda env:base] *",
   "language": "python",
   "name": "conda-base-py"
  },
  "language_info": {
   "codemirror_mode": {
    "name": "ipython",
    "version": 3
   },
   "file_extension": ".py",
   "mimetype": "text/x-python",
   "name": "python",
   "nbconvert_exporter": "python",
   "pygments_lexer": "ipython3",
   "version": "3.12.7"
  }
 },
 "nbformat": 4,
 "nbformat_minor": 5
}
